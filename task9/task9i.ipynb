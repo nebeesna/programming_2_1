{
 "cells": [
  {
   "cell_type": "code",
   "execution_count": 44,
   "id": "09b1eeb7",
   "metadata": {},
   "outputs": [],
   "source": [
    "import pandas as pd\n",
    "import numpy as np\n",
    "import ipywidgets\n",
    "import random"
   ]
  },
  {
   "cell_type": "code",
   "execution_count": 23,
   "id": "a2ece087",
   "metadata": {},
   "outputs": [
    {
     "data": {
      "text/plain": [
       "a    0.089093\n",
       "b    0.350895\n",
       "c    0.640457\n",
       "d    0.651000\n",
       "e    0.211711\n",
       "Name: name, dtype: float64"
      ]
     },
     "execution_count": 23,
     "metadata": {},
     "output_type": "execute_result"
    }
   ],
   "source": [
    "s = pd.Series(\n",
    "    np.random.random(5),\n",
    "    index = ['a', 'b', 'c', 'd', 'e'],\n",
    "    name = 'name'\n",
    ")\n",
    "s"
   ]
  },
  {
   "cell_type": "code",
   "execution_count": 24,
   "id": "d9fb526f",
   "metadata": {},
   "outputs": [
    {
     "data": {
      "text/plain": [
       "1     first\n",
       "2    second\n",
       "3     third\n",
       "4    fourth\n",
       "dtype: object"
      ]
     },
     "execution_count": 24,
     "metadata": {},
     "output_type": "execute_result"
    }
   ],
   "source": [
    "base_dict = {1:'first', 2:'second', 3:'third', 4:'fourth'}\n",
    "s2 = pd.Series(base_dict)\n",
    "s2"
   ]
  },
  {
   "cell_type": "code",
   "execution_count": 25,
   "id": "8cef9367",
   "metadata": {},
   "outputs": [
    {
     "data": {
      "text/plain": [
       "pandas.core.series.Series"
      ]
     },
     "execution_count": 25,
     "metadata": {},
     "output_type": "execute_result"
    }
   ],
   "source": [
    "type(s)"
   ]
  },
  {
   "cell_type": "code",
   "execution_count": 26,
   "id": "56f79701",
   "metadata": {},
   "outputs": [
    {
     "data": {
      "text/plain": [
       "array([0.08909272, 0.35089492, 0.64045749, 0.65100045, 0.21171128])"
      ]
     },
     "execution_count": 26,
     "metadata": {},
     "output_type": "execute_result"
    }
   ],
   "source": [
    "s.values\n"
   ]
  },
  {
   "cell_type": "code",
   "execution_count": 27,
   "id": "c60f4f28",
   "metadata": {},
   "outputs": [
    {
     "data": {
      "text/plain": [
       "Index(['a', 'b', 'c', 'd', 'e'], dtype='object')"
      ]
     },
     "execution_count": 27,
     "metadata": {},
     "output_type": "execute_result"
    }
   ],
   "source": [
    "s.index"
   ]
  },
  {
   "cell_type": "code",
   "execution_count": 28,
   "id": "a5fb8fe5",
   "metadata": {},
   "outputs": [
    {
     "data": {
      "text/plain": [
       "0.08909272221690545"
      ]
     },
     "execution_count": 28,
     "metadata": {},
     "output_type": "execute_result"
    }
   ],
   "source": [
    "s['a']"
   ]
  },
  {
   "cell_type": "code",
   "execution_count": 29,
   "id": "33f55179",
   "metadata": {},
   "outputs": [
    {
     "data": {
      "text/plain": [
       "a    0.089093\n",
       "b    0.350895\n",
       "c    0.640457\n",
       "Name: name, dtype: float64"
      ]
     },
     "execution_count": 29,
     "metadata": {},
     "output_type": "execute_result"
    }
   ],
   "source": [
    "s[:3]"
   ]
  },
  {
   "cell_type": "code",
   "execution_count": 30,
   "id": "24f7fcb5",
   "metadata": {},
   "outputs": [
    {
     "data": {
      "text/plain": [
       "a    0.089093\n",
       "b    0.350895\n",
       "c    1.000000\n",
       "d    0.651000\n",
       "e    0.211711\n",
       "Name: name, dtype: float64"
      ]
     },
     "execution_count": 30,
     "metadata": {},
     "output_type": "execute_result"
    }
   ],
   "source": [
    "s['c'] = 1\n",
    "s"
   ]
  },
  {
   "cell_type": "code",
   "execution_count": 31,
   "id": "447e5f6f",
   "metadata": {},
   "outputs": [
    {
     "data": {
      "text/plain": [
       "a    False\n",
       "b    False\n",
       "c     True\n",
       "d     True\n",
       "e    False\n",
       "Name: name, dtype: bool"
      ]
     },
     "execution_count": 31,
     "metadata": {},
     "output_type": "execute_result"
    }
   ],
   "source": [
    "s > 0.5"
   ]
  },
  {
   "cell_type": "code",
   "execution_count": 32,
   "id": "0e11902f",
   "metadata": {},
   "outputs": [
    {
     "data": {
      "text/plain": [
       "a    5.089093\n",
       "b    5.350895\n",
       "c    6.000000\n",
       "d    5.651000\n",
       "e    5.211711\n",
       "Name: name, dtype: float64"
      ]
     },
     "execution_count": 32,
     "metadata": {},
     "output_type": "execute_result"
    }
   ],
   "source": [
    "s + 5\n"
   ]
  },
  {
   "cell_type": "code",
   "execution_count": 33,
   "id": "aa9107a8",
   "metadata": {},
   "outputs": [
    {
     "data": {
      "text/plain": [
       "a    0.445464\n",
       "b    1.754475\n",
       "c    5.000000\n",
       "d    3.255002\n",
       "e    1.058556\n",
       "Name: name, dtype: float64"
      ]
     },
     "execution_count": 33,
     "metadata": {},
     "output_type": "execute_result"
    }
   ],
   "source": [
    "s = s * 5\n",
    "s"
   ]
  },
  {
   "cell_type": "code",
   "execution_count": 34,
   "id": "5d142831",
   "metadata": {},
   "outputs": [
    {
     "data": {
      "text/plain": [
       "1         firstfirstfirstfirstfirst\n",
       "2    secondsecondsecondsecondsecond\n",
       "3         thirdthirdthirdthirdthird\n",
       "4    fourthfourthfourthfourthfourth\n",
       "dtype: object"
      ]
     },
     "execution_count": 34,
     "metadata": {},
     "output_type": "execute_result"
    }
   ],
   "source": [
    "s2 * 5"
   ]
  },
  {
   "cell_type": "code",
   "execution_count": 35,
   "id": "6c972045",
   "metadata": {},
   "outputs": [
    {
     "data": {
      "text/plain": [
       "a    0.445464\n",
       "b   -1.754475\n",
       "c   -5.000000\n",
       "d   -3.255002\n",
       "e   -1.058556\n",
       "Name: name, dtype: float64"
      ]
     },
     "execution_count": 35,
     "metadata": {},
     "output_type": "execute_result"
    }
   ],
   "source": [
    "s[s>0.5] *= -1\n",
    "s"
   ]
  },
  {
   "cell_type": "code",
   "execution_count": 36,
   "id": "a3f9684e",
   "metadata": {},
   "outputs": [
    {
     "data": {
      "text/plain": [
       "a    0.445464\n",
       "b    1.754475\n",
       "c    5.000000\n",
       "d    3.255002\n",
       "e    1.058556\n",
       "Name: name, dtype: float64"
      ]
     },
     "execution_count": 36,
     "metadata": {},
     "output_type": "execute_result"
    }
   ],
   "source": [
    "s.abs()"
   ]
  },
  {
   "cell_type": "code",
   "execution_count": 37,
   "id": "f31cfe79",
   "metadata": {},
   "outputs": [
    {
     "data": {
      "text/plain": [
       "0     3\n",
       "1     5\n",
       "2     7\n",
       "3     3\n",
       "4     3\n",
       "5     7\n",
       "6     9\n",
       "7     4\n",
       "8     4\n",
       "9     9\n",
       "10    3\n",
       "11    5\n",
       "12    9\n",
       "dtype: int64"
      ]
     },
     "execution_count": 37,
     "metadata": {},
     "output_type": "execute_result"
    }
   ],
   "source": [
    "unique_value = pd.Series([3,5,7,3,3,7,9,4,4,9,3,5,9])\n",
    "unique_value"
   ]
  },
  {
   "cell_type": "code",
   "execution_count": 38,
   "id": "0de355f5",
   "metadata": {},
   "outputs": [
    {
     "data": {
      "text/plain": [
       "array([3, 5, 7, 9, 4], dtype=int64)"
      ]
     },
     "execution_count": 38,
     "metadata": {},
     "output_type": "execute_result"
    }
   ],
   "source": [
    "unique_value.unique()"
   ]
  },
  {
   "cell_type": "code",
   "execution_count": 39,
   "id": "bd7f43d6",
   "metadata": {},
   "outputs": [
    {
     "data": {
      "application/vnd.jupyter.widget-view+json": {
       "model_id": "f4f8a6a99a2e42df848d7bfba2589ecb",
       "version_major": 2,
       "version_minor": 0
      },
      "text/plain": [
       "interactive(children=(IntSlider(value=4, description='x', max=12, min=-4), Output()), _dom_classes=('widget-in…"
      ]
     },
     "metadata": {},
     "output_type": "display_data"
    }
   ],
   "source": [
    "@interact(x=4)\n",
    "def func1(x):\n",
    "    return 4 * x"
   ]
  },
  {
   "cell_type": "code",
   "execution_count": 40,
   "id": "9b93019e",
   "metadata": {},
   "outputs": [
    {
     "data": {
      "application/vnd.jupyter.widget-view+json": {
       "model_id": "7a0e3290d5c047309052bcfdf92eb8a0",
       "version_major": 2,
       "version_minor": 0
      },
      "text/plain": [
       "interactive(children=(Dropdown(description='x', options=('first', 'second', 'third', 'fourth'), value='first')…"
      ]
     },
     "metadata": {},
     "output_type": "display_data"
    }
   ],
   "source": [
    "interact(func1, x = s2.values);"
   ]
  },
  {
   "cell_type": "code",
   "execution_count": 45,
   "id": "cf7fa851",
   "metadata": {},
   "outputs": [
    {
     "data": {
      "application/vnd.jupyter.widget-view+json": {
       "model_id": "57d6ebf27a8746b195e7bef1ec9ca3b3",
       "version_major": 2,
       "version_minor": 0
      },
      "text/plain": [
       "interactive(children=(Button(description='Run Interact', style=ButtonStyle()), Output()), _dom_classes=('widge…"
      ]
     },
     "metadata": {},
     "output_type": "display_data"
    }
   ],
   "source": [
    "@ipywidgets.interact_manual()\n",
    "def random_value():\n",
    "#     unique_value = pd.Series([3,5,7,3,3,7,9,4,4,9,3,5,9])\n",
    "    print(random.choice(unique_value))"
   ]
  },
  {
   "cell_type": "code",
   "execution_count": 46,
   "id": "7d6bcb31",
   "metadata": {},
   "outputs": [
    {
     "data": {
      "text/html": [
       "<div>\n",
       "<style scoped>\n",
       "    .dataframe tbody tr th:only-of-type {\n",
       "        vertical-align: middle;\n",
       "    }\n",
       "\n",
       "    .dataframe tbody tr th {\n",
       "        vertical-align: top;\n",
       "    }\n",
       "\n",
       "    .dataframe thead th {\n",
       "        text-align: right;\n",
       "    }\n",
       "</style>\n",
       "<table border=\"1\" class=\"dataframe\">\n",
       "  <thead>\n",
       "    <tr style=\"text-align: right;\">\n",
       "      <th></th>\n",
       "      <th>id</th>\n",
       "      <th>count</th>\n",
       "      <th>price</th>\n",
       "      <th>basic price</th>\n",
       "    </tr>\n",
       "  </thead>\n",
       "  <tbody>\n",
       "    <tr>\n",
       "      <th>0</th>\n",
       "      <td>f266h</td>\n",
       "      <td>300</td>\n",
       "      <td>23.1</td>\n",
       "      <td>20.1</td>\n",
       "    </tr>\n",
       "    <tr>\n",
       "      <th>1</th>\n",
       "      <td>dj85d</td>\n",
       "      <td>125</td>\n",
       "      <td>55.0</td>\n",
       "      <td>50.1</td>\n",
       "    </tr>\n",
       "    <tr>\n",
       "      <th>2</th>\n",
       "      <td>sh74d</td>\n",
       "      <td>111</td>\n",
       "      <td>66.8</td>\n",
       "      <td>52.5</td>\n",
       "    </tr>\n",
       "    <tr>\n",
       "      <th>3</th>\n",
       "      <td>d5fhd</td>\n",
       "      <td>22</td>\n",
       "      <td>12.0</td>\n",
       "      <td>11.1</td>\n",
       "    </tr>\n",
       "    <tr>\n",
       "      <th>4</th>\n",
       "      <td>a45fg</td>\n",
       "      <td>266</td>\n",
       "      <td>78.8</td>\n",
       "      <td>65.4</td>\n",
       "    </tr>\n",
       "    <tr>\n",
       "      <th>5</th>\n",
       "      <td>g67hd</td>\n",
       "      <td>23</td>\n",
       "      <td>33.8</td>\n",
       "      <td>26.8</td>\n",
       "    </tr>\n",
       "  </tbody>\n",
       "</table>\n",
       "</div>"
      ],
      "text/plain": [
       "      id  count  price  basic price\n",
       "0  f266h    300   23.1         20.1\n",
       "1  dj85d    125   55.0         50.1\n",
       "2  sh74d    111   66.8         52.5\n",
       "3  d5fhd     22   12.0         11.1\n",
       "4  a45fg    266   78.8         65.4\n",
       "5  g67hd     23   33.8         26.8"
      ]
     },
     "execution_count": 46,
     "metadata": {},
     "output_type": "execute_result"
    }
   ],
   "source": [
    "df = pd.read_csv('data.csv')\n",
    "df"
   ]
  },
  {
   "cell_type": "code",
   "execution_count": 47,
   "id": "b316e818",
   "metadata": {},
   "outputs": [
    {
     "data": {
      "text/plain": [
       "(6, 4)"
      ]
     },
     "execution_count": 47,
     "metadata": {},
     "output_type": "execute_result"
    }
   ],
   "source": [
    "df.shape"
   ]
  },
  {
   "cell_type": "code",
   "execution_count": 48,
   "id": "abcca0e0",
   "metadata": {},
   "outputs": [
    {
     "data": {
      "text/plain": [
       "Index(['id', 'count', 'price', 'basic price'], dtype='object')"
      ]
     },
     "execution_count": 48,
     "metadata": {},
     "output_type": "execute_result"
    }
   ],
   "source": [
    "df.columns"
   ]
  },
  {
   "cell_type": "code",
   "execution_count": 49,
   "id": "10a34510",
   "metadata": {},
   "outputs": [
    {
     "data": {
      "text/plain": [
       "0    f266h\n",
       "1    dj85d\n",
       "2    sh74d\n",
       "3    d5fhd\n",
       "4    a45fg\n",
       "5    g67hd\n",
       "Name: id, dtype: object"
      ]
     },
     "execution_count": 49,
     "metadata": {},
     "output_type": "execute_result"
    }
   ],
   "source": [
    "df['id']"
   ]
  },
  {
   "cell_type": "code",
   "execution_count": 50,
   "id": "9a6a57a3",
   "metadata": {},
   "outputs": [
    {
     "data": {
      "text/html": [
       "<div>\n",
       "<style scoped>\n",
       "    .dataframe tbody tr th:only-of-type {\n",
       "        vertical-align: middle;\n",
       "    }\n",
       "\n",
       "    .dataframe tbody tr th {\n",
       "        vertical-align: top;\n",
       "    }\n",
       "\n",
       "    .dataframe thead th {\n",
       "        text-align: right;\n",
       "    }\n",
       "</style>\n",
       "<table border=\"1\" class=\"dataframe\">\n",
       "  <thead>\n",
       "    <tr style=\"text-align: right;\">\n",
       "      <th></th>\n",
       "      <th>id</th>\n",
       "      <th>count</th>\n",
       "      <th>price</th>\n",
       "      <th>basic price</th>\n",
       "    </tr>\n",
       "  </thead>\n",
       "  <tbody>\n",
       "    <tr>\n",
       "      <th>0</th>\n",
       "      <td>f266h</td>\n",
       "      <td>300</td>\n",
       "      <td>23.1</td>\n",
       "      <td>20.1</td>\n",
       "    </tr>\n",
       "    <tr>\n",
       "      <th>1</th>\n",
       "      <td>dj85d</td>\n",
       "      <td>125</td>\n",
       "      <td>55.0</td>\n",
       "      <td>50.1</td>\n",
       "    </tr>\n",
       "  </tbody>\n",
       "</table>\n",
       "</div>"
      ],
      "text/plain": [
       "      id  count  price  basic price\n",
       "0  f266h    300   23.1         20.1\n",
       "1  dj85d    125   55.0         50.1"
      ]
     },
     "execution_count": 50,
     "metadata": {},
     "output_type": "execute_result"
    }
   ],
   "source": [
    "df.head(2)"
   ]
  },
  {
   "cell_type": "code",
   "execution_count": 51,
   "id": "cca60904",
   "metadata": {},
   "outputs": [
    {
     "data": {
      "text/html": [
       "<div>\n",
       "<style scoped>\n",
       "    .dataframe tbody tr th:only-of-type {\n",
       "        vertical-align: middle;\n",
       "    }\n",
       "\n",
       "    .dataframe tbody tr th {\n",
       "        vertical-align: top;\n",
       "    }\n",
       "\n",
       "    .dataframe thead th {\n",
       "        text-align: right;\n",
       "    }\n",
       "</style>\n",
       "<table border=\"1\" class=\"dataframe\">\n",
       "  <thead>\n",
       "    <tr style=\"text-align: right;\">\n",
       "      <th></th>\n",
       "      <th>id</th>\n",
       "      <th>count</th>\n",
       "      <th>price</th>\n",
       "      <th>basic price</th>\n",
       "    </tr>\n",
       "  </thead>\n",
       "  <tbody>\n",
       "    <tr>\n",
       "      <th>4</th>\n",
       "      <td>a45fg</td>\n",
       "      <td>266</td>\n",
       "      <td>78.8</td>\n",
       "      <td>65.4</td>\n",
       "    </tr>\n",
       "    <tr>\n",
       "      <th>5</th>\n",
       "      <td>g67hd</td>\n",
       "      <td>23</td>\n",
       "      <td>33.8</td>\n",
       "      <td>26.8</td>\n",
       "    </tr>\n",
       "  </tbody>\n",
       "</table>\n",
       "</div>"
      ],
      "text/plain": [
       "      id  count  price  basic price\n",
       "4  a45fg    266   78.8         65.4\n",
       "5  g67hd     23   33.8         26.8"
      ]
     },
     "execution_count": 51,
     "metadata": {},
     "output_type": "execute_result"
    }
   ],
   "source": [
    "df.tail(2)"
   ]
  },
  {
   "cell_type": "code",
   "execution_count": 52,
   "id": "e229e67a",
   "metadata": {},
   "outputs": [
    {
     "data": {
      "text/html": [
       "<div>\n",
       "<style scoped>\n",
       "    .dataframe tbody tr th:only-of-type {\n",
       "        vertical-align: middle;\n",
       "    }\n",
       "\n",
       "    .dataframe tbody tr th {\n",
       "        vertical-align: top;\n",
       "    }\n",
       "\n",
       "    .dataframe thead th {\n",
       "        text-align: right;\n",
       "    }\n",
       "</style>\n",
       "<table border=\"1\" class=\"dataframe\">\n",
       "  <thead>\n",
       "    <tr style=\"text-align: right;\">\n",
       "      <th></th>\n",
       "      <th>id</th>\n",
       "      <th>count</th>\n",
       "      <th>price</th>\n",
       "      <th>basic price</th>\n",
       "    </tr>\n",
       "  </thead>\n",
       "  <tbody>\n",
       "    <tr>\n",
       "      <th>3</th>\n",
       "      <td>d5fhd</td>\n",
       "      <td>22</td>\n",
       "      <td>12.0</td>\n",
       "      <td>11.1</td>\n",
       "    </tr>\n",
       "    <tr>\n",
       "      <th>0</th>\n",
       "      <td>f266h</td>\n",
       "      <td>300</td>\n",
       "      <td>23.1</td>\n",
       "      <td>20.1</td>\n",
       "    </tr>\n",
       "    <tr>\n",
       "      <th>5</th>\n",
       "      <td>g67hd</td>\n",
       "      <td>23</td>\n",
       "      <td>33.8</td>\n",
       "      <td>26.8</td>\n",
       "    </tr>\n",
       "    <tr>\n",
       "      <th>1</th>\n",
       "      <td>dj85d</td>\n",
       "      <td>125</td>\n",
       "      <td>55.0</td>\n",
       "      <td>50.1</td>\n",
       "    </tr>\n",
       "    <tr>\n",
       "      <th>2</th>\n",
       "      <td>sh74d</td>\n",
       "      <td>111</td>\n",
       "      <td>66.8</td>\n",
       "      <td>52.5</td>\n",
       "    </tr>\n",
       "    <tr>\n",
       "      <th>4</th>\n",
       "      <td>a45fg</td>\n",
       "      <td>266</td>\n",
       "      <td>78.8</td>\n",
       "      <td>65.4</td>\n",
       "    </tr>\n",
       "  </tbody>\n",
       "</table>\n",
       "</div>"
      ],
      "text/plain": [
       "      id  count  price  basic price\n",
       "3  d5fhd     22   12.0         11.1\n",
       "0  f266h    300   23.1         20.1\n",
       "5  g67hd     23   33.8         26.8\n",
       "1  dj85d    125   55.0         50.1\n",
       "2  sh74d    111   66.8         52.5\n",
       "4  a45fg    266   78.8         65.4"
      ]
     },
     "execution_count": 52,
     "metadata": {},
     "output_type": "execute_result"
    }
   ],
   "source": [
    "df.sort_values('price')"
   ]
  },
  {
   "cell_type": "code",
   "execution_count": 53,
   "id": "66d7e9cf",
   "metadata": {},
   "outputs": [
    {
     "data": {
      "text/plain": [
       "23.1"
      ]
     },
     "execution_count": 53,
     "metadata": {},
     "output_type": "execute_result"
    }
   ],
   "source": [
    "df.loc[0, 'price']"
   ]
  },
  {
   "cell_type": "code",
   "execution_count": 54,
   "id": "a8145a7b",
   "metadata": {},
   "outputs": [
    {
     "data": {
      "text/html": [
       "<div>\n",
       "<style scoped>\n",
       "    .dataframe tbody tr th:only-of-type {\n",
       "        vertical-align: middle;\n",
       "    }\n",
       "\n",
       "    .dataframe tbody tr th {\n",
       "        vertical-align: top;\n",
       "    }\n",
       "\n",
       "    .dataframe thead th {\n",
       "        text-align: right;\n",
       "    }\n",
       "</style>\n",
       "<table border=\"1\" class=\"dataframe\">\n",
       "  <thead>\n",
       "    <tr style=\"text-align: right;\">\n",
       "      <th></th>\n",
       "      <th>count</th>\n",
       "      <th>price</th>\n",
       "      <th>basic price</th>\n",
       "    </tr>\n",
       "    <tr>\n",
       "      <th>id</th>\n",
       "      <th></th>\n",
       "      <th></th>\n",
       "      <th></th>\n",
       "    </tr>\n",
       "  </thead>\n",
       "  <tbody>\n",
       "    <tr>\n",
       "      <th>f266h</th>\n",
       "      <td>300</td>\n",
       "      <td>23.1</td>\n",
       "      <td>20.1</td>\n",
       "    </tr>\n",
       "    <tr>\n",
       "      <th>dj85d</th>\n",
       "      <td>125</td>\n",
       "      <td>55.0</td>\n",
       "      <td>50.1</td>\n",
       "    </tr>\n",
       "    <tr>\n",
       "      <th>sh74d</th>\n",
       "      <td>111</td>\n",
       "      <td>66.8</td>\n",
       "      <td>52.5</td>\n",
       "    </tr>\n",
       "    <tr>\n",
       "      <th>d5fhd</th>\n",
       "      <td>22</td>\n",
       "      <td>12.0</td>\n",
       "      <td>11.1</td>\n",
       "    </tr>\n",
       "    <tr>\n",
       "      <th>a45fg</th>\n",
       "      <td>266</td>\n",
       "      <td>78.8</td>\n",
       "      <td>65.4</td>\n",
       "    </tr>\n",
       "    <tr>\n",
       "      <th>g67hd</th>\n",
       "      <td>23</td>\n",
       "      <td>33.8</td>\n",
       "      <td>26.8</td>\n",
       "    </tr>\n",
       "  </tbody>\n",
       "</table>\n",
       "</div>"
      ],
      "text/plain": [
       "       count  price  basic price\n",
       "id                              \n",
       "f266h    300   23.1         20.1\n",
       "dj85d    125   55.0         50.1\n",
       "sh74d    111   66.8         52.5\n",
       "d5fhd     22   12.0         11.1\n",
       "a45fg    266   78.8         65.4\n",
       "g67hd     23   33.8         26.8"
      ]
     },
     "execution_count": 54,
     "metadata": {},
     "output_type": "execute_result"
    }
   ],
   "source": [
    "df.set_index('id', inplace=True)\n",
    "df"
   ]
  },
  {
   "cell_type": "code",
   "execution_count": 55,
   "id": "796948ec",
   "metadata": {},
   "outputs": [
    {
     "data": {
      "text/plain": [
       "id\n",
       "f266h     True\n",
       "dj85d     True\n",
       "sh74d     True\n",
       "d5fhd    False\n",
       "a45fg     True\n",
       "g67hd     True\n",
       "Name: price, dtype: bool"
      ]
     },
     "execution_count": 55,
     "metadata": {},
     "output_type": "execute_result"
    }
   ],
   "source": [
    "filt=df['price']>20\n",
    "filt.head(10)"
   ]
  },
  {
   "cell_type": "code",
   "execution_count": 56,
   "id": "921e6fa8",
   "metadata": {},
   "outputs": [
    {
     "data": {
      "text/html": [
       "<div>\n",
       "<style scoped>\n",
       "    .dataframe tbody tr th:only-of-type {\n",
       "        vertical-align: middle;\n",
       "    }\n",
       "\n",
       "    .dataframe tbody tr th {\n",
       "        vertical-align: top;\n",
       "    }\n",
       "\n",
       "    .dataframe thead th {\n",
       "        text-align: right;\n",
       "    }\n",
       "</style>\n",
       "<table border=\"1\" class=\"dataframe\">\n",
       "  <thead>\n",
       "    <tr style=\"text-align: right;\">\n",
       "      <th></th>\n",
       "      <th>id</th>\n",
       "      <th>count</th>\n",
       "      <th>price</th>\n",
       "      <th>basic price</th>\n",
       "    </tr>\n",
       "  </thead>\n",
       "  <tbody>\n",
       "    <tr>\n",
       "      <th>0</th>\n",
       "      <td>f266h</td>\n",
       "      <td>300</td>\n",
       "      <td>23.1</td>\n",
       "      <td>20.1</td>\n",
       "    </tr>\n",
       "    <tr>\n",
       "      <th>1</th>\n",
       "      <td>dj85d</td>\n",
       "      <td>125</td>\n",
       "      <td>55.0</td>\n",
       "      <td>50.1</td>\n",
       "    </tr>\n",
       "    <tr>\n",
       "      <th>2</th>\n",
       "      <td>sh74d</td>\n",
       "      <td>111</td>\n",
       "      <td>66.8</td>\n",
       "      <td>52.5</td>\n",
       "    </tr>\n",
       "    <tr>\n",
       "      <th>3</th>\n",
       "      <td>d5fhd</td>\n",
       "      <td>22</td>\n",
       "      <td>12.0</td>\n",
       "      <td>11.1</td>\n",
       "    </tr>\n",
       "    <tr>\n",
       "      <th>4</th>\n",
       "      <td>a45fg</td>\n",
       "      <td>266</td>\n",
       "      <td>78.8</td>\n",
       "      <td>65.4</td>\n",
       "    </tr>\n",
       "    <tr>\n",
       "      <th>5</th>\n",
       "      <td>g67hd</td>\n",
       "      <td>23</td>\n",
       "      <td>33.8</td>\n",
       "      <td>26.8</td>\n",
       "    </tr>\n",
       "  </tbody>\n",
       "</table>\n",
       "</div>"
      ],
      "text/plain": [
       "      id  count  price  basic price\n",
       "0  f266h    300   23.1         20.1\n",
       "1  dj85d    125   55.0         50.1\n",
       "2  sh74d    111   66.8         52.5\n",
       "3  d5fhd     22   12.0         11.1\n",
       "4  a45fg    266   78.8         65.4\n",
       "5  g67hd     23   33.8         26.8"
      ]
     },
     "execution_count": 56,
     "metadata": {},
     "output_type": "execute_result"
    }
   ],
   "source": [
    "df.reset_index(inplace=True)\n",
    "df"
   ]
  },
  {
   "cell_type": "code",
   "execution_count": 57,
   "id": "707f5227",
   "metadata": {},
   "outputs": [
    {
     "data": {
      "text/plain": [
       "0     True\n",
       "1    False\n",
       "2    False\n",
       "3    False\n",
       "4     True\n",
       "5    False\n",
       "dtype: bool"
      ]
     },
     "execution_count": 57,
     "metadata": {},
     "output_type": "execute_result"
    }
   ],
   "source": [
    "filt = (df['count']>150) | (df['price']==50.0 ) \n",
    "filt"
   ]
  },
  {
   "cell_type": "code",
   "execution_count": 58,
   "id": "ee7cb283",
   "metadata": {},
   "outputs": [
    {
     "data": {
      "application/vnd.jupyter.widget-view+json": {
       "model_id": "dddfb9e54a654a89baf2d572bd5a1fa0",
       "version_major": 2,
       "version_minor": 0
      },
      "text/plain": [
       "interactive(children=(Dropdown(description='x', options=('id', 'count', 'price', 'basic price'), value='id'), …"
      ]
     },
     "metadata": {},
     "output_type": "display_data"
    },
    {
     "data": {
      "text/plain": [
       "<function __main__.func3(x)>"
      ]
     },
     "execution_count": 58,
     "metadata": {},
     "output_type": "execute_result"
    }
   ],
   "source": [
    "def func3(x):\n",
    "    return df[x].values\n",
    "interact(func3, x = df.columns)"
   ]
  }
 ],
 "metadata": {
  "kernelspec": {
   "display_name": "Python 3 (ipykernel)",
   "language": "python",
   "name": "python3"
  },
  "language_info": {
   "codemirror_mode": {
    "name": "ipython",
    "version": 3
   },
   "file_extension": ".py",
   "mimetype": "text/x-python",
   "name": "python",
   "nbconvert_exporter": "python",
   "pygments_lexer": "ipython3",
   "version": "3.9.7"
  }
 },
 "nbformat": 4,
 "nbformat_minor": 5
}
